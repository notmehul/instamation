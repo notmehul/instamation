{
 "cells": [
  {
   "cell_type": "code",
   "execution_count": 1,
   "metadata": {},
   "outputs": [],
   "source": [
    "from selenium import webdriver\n",
    "from selenium.webdriver.common.by import By\n",
    "from selenium.webdriver.common.keys import Keys\n",
    "from selenium.webdriver.support.ui import WebDriverWait\n",
    "from selenium.webdriver.support import expected_conditions as EC\n",
    "import time\n",
    "import os"
   ]
  },
  {
   "cell_type": "code",
   "execution_count": 3,
   "metadata": {},
   "outputs": [],
   "source": [
    "driver = webdriver.Chrome()"
   ]
  },
  {
   "cell_type": "code",
   "execution_count": 8,
   "metadata": {},
   "outputs": [],
   "source": [
    "def web_driver():\n",
    "    options = webdriver.ChromeOptions()\n",
    "    options.add_argument(\"--verbose\")\n",
    "    options.add_argument('--no-sandbox')\n",
    "    options.add_argument('--disable-gpu')\n",
    "    options.add_argument(\"--window-size=1920, 1200\")\n",
    "    options.add_argument('--disable-dev-shm-usage')\n",
    "    driver = webdriver.Chrome(options=options)\n",
    "    return driver\n",
    "\n",
    "driver = web_driver()\n"
   ]
  },
  {
   "cell_type": "code",
   "execution_count": 9,
   "metadata": {},
   "outputs": [],
   "source": [
    "driver.get(\"http://instagram.com\")\n"
   ]
  },
  {
   "cell_type": "code",
   "execution_count": 10,
   "metadata": {},
   "outputs": [],
   "source": [
    "WebDriverWait(driver, 5).until(EC.element_to_be_clickable((By.XPATH, '//input[@name=\"username\"]')))\n",
    "\n",
    "idm = driver.find_element(By.XPATH, '//input[@name=\"username\"]')\n",
    "passw = driver.find_element(By.XPATH,'//input[@name=\"password\"]')\n",
    "\n",
    "\n",
    "# write your user name and password to log and pas areas.\n",
    "log = \"cokdodile\"\n",
    "pas = \"xuvmyt-musZig-6nirva\"\n",
    "idm.send_keys(log)\n",
    "passw.send_keys(pas)\n",
    "time.sleep(2)\n"
   ]
  },
  {
   "cell_type": "code",
   "execution_count": 11,
   "metadata": {},
   "outputs": [],
   "source": [
    "driver.find_element(By.XPATH,'//button[contains(@type,\"submit\")]').click()"
   ]
  },
  {
   "cell_type": "code",
   "execution_count": 12,
   "metadata": {},
   "outputs": [
    {
     "ename": "TimeoutException",
     "evalue": "Message: \nStacktrace:\n0   chromedriver                        0x0000000104522940 chromedriver + 4368704\n1   chromedriver                        0x000000010451add4 chromedriver + 4337108\n2   chromedriver                        0x000000010413ec04 chromedriver + 289796\n3   chromedriver                        0x0000000104180e00 chromedriver + 560640\n4   chromedriver                        0x00000001041b95ec chromedriver + 792044\n5   chromedriver                        0x0000000104175ab4 chromedriver + 514740\n6   chromedriver                        0x000000010417650c chromedriver + 517388\n7   chromedriver                        0x00000001044e6e5c chromedriver + 4124252\n8   chromedriver                        0x00000001044ebc4c chromedriver + 4144204\n9   chromedriver                        0x00000001044cc824 chromedriver + 4016164\n10  chromedriver                        0x00000001044ec57c chromedriver + 4146556\n11  chromedriver                        0x00000001044be2d8 chromedriver + 3957464\n12  chromedriver                        0x000000010450bec4 chromedriver + 4275908\n13  chromedriver                        0x000000010450c040 chromedriver + 4276288\n14  chromedriver                        0x000000010451aa34 chromedriver + 4336180\n15  libsystem_pthread.dylib             0x000000019e062f94 _pthread_start + 136\n16  libsystem_pthread.dylib             0x000000019e05dd34 thread_start + 8\n",
     "output_type": "error",
     "traceback": [
      "\u001b[0;31m---------------------------------------------------------------------------\u001b[0m",
      "\u001b[0;31mTimeoutException\u001b[0m                          Traceback (most recent call last)",
      "Cell \u001b[0;32mIn[12], line 2\u001b[0m\n\u001b[1;32m      1\u001b[0m \u001b[38;5;66;03m# going thru the save login info, remember me bs\u001b[39;00m\n\u001b[0;32m----> 2\u001b[0m \u001b[43mWebDriverWait\u001b[49m\u001b[43m(\u001b[49m\u001b[43mdriver\u001b[49m\u001b[43m,\u001b[49m\u001b[43m \u001b[49m\u001b[38;5;241;43m10\u001b[39;49m\u001b[43m)\u001b[49m\u001b[38;5;241;43m.\u001b[39;49m\u001b[43muntil\u001b[49m\u001b[43m(\u001b[49m\u001b[43mEC\u001b[49m\u001b[38;5;241;43m.\u001b[39;49m\u001b[43melement_to_be_clickable\u001b[49m\u001b[43m(\u001b[49m\u001b[43m(\u001b[49m\u001b[43mBy\u001b[49m\u001b[38;5;241;43m.\u001b[39;49m\u001b[43mXPATH\u001b[49m\u001b[43m,\u001b[49m\u001b[43m \u001b[49m\u001b[38;5;124;43m'\u001b[39;49m\u001b[38;5;124;43m//button[text()=\u001b[39;49m\u001b[38;5;124;43m\"\u001b[39;49m\u001b[38;5;124;43mNot Now\u001b[39;49m\u001b[38;5;124;43m\"\u001b[39;49m\u001b[38;5;124;43m]\u001b[39;49m\u001b[38;5;124;43m'\u001b[39;49m\u001b[43m)\u001b[49m\u001b[43m)\u001b[49m\u001b[43m)\u001b[49m\n\u001b[1;32m      3\u001b[0m driver\u001b[38;5;241m.\u001b[39mfind_element(By\u001b[38;5;241m.\u001b[39mXPATH, \u001b[38;5;124m'\u001b[39m\u001b[38;5;124m//button[text()=\u001b[39m\u001b[38;5;124m\"\u001b[39m\u001b[38;5;124mNot Now\u001b[39m\u001b[38;5;124m\"\u001b[39m\u001b[38;5;124m]\u001b[39m\u001b[38;5;124m'\u001b[39m)\u001b[38;5;241m.\u001b[39mclick()\n",
      "File \u001b[0;32m~/anaconda3/lib/python3.10/site-packages/selenium/webdriver/support/wait.py:95\u001b[0m, in \u001b[0;36mWebDriverWait.until\u001b[0;34m(self, method, message)\u001b[0m\n\u001b[1;32m     93\u001b[0m     \u001b[38;5;28;01mif\u001b[39;00m time\u001b[38;5;241m.\u001b[39mmonotonic() \u001b[38;5;241m>\u001b[39m end_time:\n\u001b[1;32m     94\u001b[0m         \u001b[38;5;28;01mbreak\u001b[39;00m\n\u001b[0;32m---> 95\u001b[0m \u001b[38;5;28;01mraise\u001b[39;00m TimeoutException(message, screen, stacktrace)\n",
      "\u001b[0;31mTimeoutException\u001b[0m: Message: \nStacktrace:\n0   chromedriver                        0x0000000104522940 chromedriver + 4368704\n1   chromedriver                        0x000000010451add4 chromedriver + 4337108\n2   chromedriver                        0x000000010413ec04 chromedriver + 289796\n3   chromedriver                        0x0000000104180e00 chromedriver + 560640\n4   chromedriver                        0x00000001041b95ec chromedriver + 792044\n5   chromedriver                        0x0000000104175ab4 chromedriver + 514740\n6   chromedriver                        0x000000010417650c chromedriver + 517388\n7   chromedriver                        0x00000001044e6e5c chromedriver + 4124252\n8   chromedriver                        0x00000001044ebc4c chromedriver + 4144204\n9   chromedriver                        0x00000001044cc824 chromedriver + 4016164\n10  chromedriver                        0x00000001044ec57c chromedriver + 4146556\n11  chromedriver                        0x00000001044be2d8 chromedriver + 3957464\n12  chromedriver                        0x000000010450bec4 chromedriver + 4275908\n13  chromedriver                        0x000000010450c040 chromedriver + 4276288\n14  chromedriver                        0x000000010451aa34 chromedriver + 4336180\n15  libsystem_pthread.dylib             0x000000019e062f94 _pthread_start + 136\n16  libsystem_pthread.dylib             0x000000019e05dd34 thread_start + 8\n"
     ]
    }
   ],
   "source": [
    "# going thru the save login info, remember me bs\n",
    "WebDriverWait(driver, 10).until(EC.element_to_be_clickable((By.XPATH, '//button[text()=\"Not Now\"]')))\n",
    "driver.find_element(By.XPATH, '//button[text()=\"Not Now\"]').click()"
   ]
  },
  {
   "cell_type": "code",
   "execution_count": null,
   "metadata": {},
   "outputs": [],
   "source": [
    "#find posting button\n",
    "WebDriverWait(driver, 5).until(EC.element_to_be_clickable((By.XPATH, '//*[@aria-label=\"New post\"]')))\n",
    "driver.find_element(By.XPATH, '//*[@aria-label=\"New post\"]').click()"
   ]
  },
  {
   "cell_type": "code",
   "execution_count": null,
   "metadata": {},
   "outputs": [],
   "source": [
    "# upload the fucking file\n",
    "#WebDriverWait(driver, 10).until(EC.element_to_be_clickable((By.XPATH, \"//input[@type='file']\")))\n",
    "time.sleep(2)\n",
    "file_input = driver.find_element(By.XPATH, \"//input[@type='file']\") \n",
    "\n",
    "file_input.send_keys('/Users/radiohead/Downloads/pics/dumb-cat.jpg') # change to uploaded file\n",
    "\n",
    "# wait for upload\n",
    "WebDriverWait(driver, 5).until(EC.element_to_be_clickable((By.XPATH, '//div[contains(text(),\"Next\")]'))) \n",
    "driver.find_element(By.XPATH, '//div[contains(text(),\"Next\")]').click() \n"
   ]
  },
  {
   "cell_type": "code",
   "execution_count": null,
   "metadata": {},
   "outputs": [],
   "source": [
    "# applying filters\n",
    "time.sleep(2)\n",
    "driver.find_element(By.XPATH, '//span[contains(text(),\"Adjustments\")]').click()\n",
    "filters = [\"Brightness\", \"Contrast\", \"Fade\", \"Saturation\", \"Temperature\", \"Vignette\"]\n",
    "for fil in filters:\n",
    "    ranger = driver.find_element(By.XPATH, f\"//span[text()='{fil}']/ancestor::div[@role='presentation']//input[@type='range']\")\n",
    "    ranger.click()\n",
    "    for _ in range(50):\n",
    "        ranger.send_keys(Keys.ARROW_RIGHT)\n"
   ]
  },
  {
   "cell_type": "code",
   "execution_count": null,
   "metadata": {},
   "outputs": [],
   "source": [
    "driver.find_element(By.XPATH, '//div[contains(text(),\"Next\")]').click()"
   ]
  },
  {
   "cell_type": "code",
   "execution_count": null,
   "metadata": {},
   "outputs": [],
   "source": [
    "WebDriverWait(driver, 5).until(EC.element_to_be_clickable((By.XPATH, \"//div[@aria-label='Write a caption...']\"))) \n",
    "caption = driver.find_element(By.XPATH,\"//div[@aria-label='Write a caption...']\")\n",
    "caption.send_keys(\"stoopid car\")"
   ]
  },
  {
   "cell_type": "code",
   "execution_count": null,
   "metadata": {},
   "outputs": [],
   "source": [
    "time.sleep(2)\n",
    "driver.find_element(By.XPATH, '//div[contains(text(),\"Share\")]').click()"
   ]
  },
  {
   "cell_type": "code",
   "execution_count": null,
   "metadata": {},
   "outputs": [],
   "source": [
    "WebDriverWait(driver, 10).until(EC.text_to_be_present_in_element((By.XPATH, \"//span[text()='Your post has been shared.']\"), \"Your post has been shared.\"))\n",
    "driver.find_element(By.XPATH, '//*[@aria-label=\"Close\"]').click()"
   ]
  },
  {
   "cell_type": "code",
   "execution_count": null,
   "metadata": {},
   "outputs": [],
   "source": []
  },
  {
   "cell_type": "code",
   "execution_count": null,
   "metadata": {},
   "outputs": [],
   "source": []
  }
 ],
 "metadata": {
  "kernelspec": {
   "display_name": "Python 3 (ipykernel)",
   "language": "python",
   "name": "python3"
  },
  "language_info": {
   "codemirror_mode": {
    "name": "ipython",
    "version": 3
   },
   "file_extension": ".py",
   "mimetype": "text/x-python",
   "name": "python",
   "nbconvert_exporter": "python",
   "pygments_lexer": "ipython3",
   "version": "3.10.9"
  }
 },
 "nbformat": 4,
 "nbformat_minor": 2
}
